{
 "cells": [
  {
   "cell_type": "code",
   "execution_count": 102,
   "id": "d72f4b10",
   "metadata": {},
   "outputs": [],
   "source": [
    "import pandas as pd\n",
    "df=pd.read_csv(\"electric_bike_ratings_2212.csv\")"
   ]
  },
  {
   "cell_type": "code",
   "execution_count": 103,
   "id": "086db20a",
   "metadata": {},
   "outputs": [
    {
     "data": {
      "text/html": [
       "<div>\n",
       "<style scoped>\n",
       "    .dataframe tbody tr th:only-of-type {\n",
       "        vertical-align: middle;\n",
       "    }\n",
       "\n",
       "    .dataframe tbody tr th {\n",
       "        vertical-align: top;\n",
       "    }\n",
       "\n",
       "    .dataframe thead th {\n",
       "        text-align: right;\n",
       "    }\n",
       "</style>\n",
       "<table border=\"1\" class=\"dataframe\">\n",
       "  <thead>\n",
       "    <tr style=\"text-align: right;\">\n",
       "      <th></th>\n",
       "      <th>owned</th>\n",
       "      <th>make_model</th>\n",
       "      <th>review_month</th>\n",
       "      <th>web_browser</th>\n",
       "      <th>reviewer_age</th>\n",
       "      <th>primary_use</th>\n",
       "      <th>value_for_money</th>\n",
       "      <th>overall_rating</th>\n",
       "    </tr>\n",
       "  </thead>\n",
       "  <tbody>\n",
       "    <tr>\n",
       "      <th>0</th>\n",
       "      <td>1</td>\n",
       "      <td>Nielah-Eyden</td>\n",
       "      <td>Oct</td>\n",
       "      <td>Chrome</td>\n",
       "      <td>23</td>\n",
       "      <td>Commuting</td>\n",
       "      <td>5/10</td>\n",
       "      <td>18.62</td>\n",
       "    </tr>\n",
       "    <tr>\n",
       "      <th>1</th>\n",
       "      <td>0</td>\n",
       "      <td>Nielah-Keetra</td>\n",
       "      <td>Jun</td>\n",
       "      <td>NaN</td>\n",
       "      <td>24</td>\n",
       "      <td>Commuting</td>\n",
       "      <td>4/10</td>\n",
       "      <td>15.55</td>\n",
       "    </tr>\n",
       "    <tr>\n",
       "      <th>2</th>\n",
       "      <td>0</td>\n",
       "      <td>Lunna-Keetra</td>\n",
       "      <td>23-Oct</td>\n",
       "      <td>Chrome</td>\n",
       "      <td>28</td>\n",
       "      <td>Commuting</td>\n",
       "      <td>5/10</td>\n",
       "      <td>12.76</td>\n",
       "    </tr>\n",
       "    <tr>\n",
       "      <th>3</th>\n",
       "      <td>1</td>\n",
       "      <td>Hoang-Keetra</td>\n",
       "      <td>07-Nov</td>\n",
       "      <td>IE</td>\n",
       "      <td>41</td>\n",
       "      <td>Leisure</td>\n",
       "      <td>5/10</td>\n",
       "      <td>17.07</td>\n",
       "    </tr>\n",
       "    <tr>\n",
       "      <th>4</th>\n",
       "      <td>1</td>\n",
       "      <td>Lunna-Keetra</td>\n",
       "      <td>16-Sep</td>\n",
       "      <td>Chrome</td>\n",
       "      <td>33</td>\n",
       "      <td>Leisure</td>\n",
       "      <td>5/10</td>\n",
       "      <td>12.29</td>\n",
       "    </tr>\n",
       "    <tr>\n",
       "      <th>...</th>\n",
       "      <td>...</td>\n",
       "      <td>...</td>\n",
       "      <td>...</td>\n",
       "      <td>...</td>\n",
       "      <td>...</td>\n",
       "      <td>...</td>\n",
       "      <td>...</td>\n",
       "      <td>...</td>\n",
       "    </tr>\n",
       "    <tr>\n",
       "      <th>1495</th>\n",
       "      <td>1</td>\n",
       "      <td>Nielah-Eyden</td>\n",
       "      <td>18-May</td>\n",
       "      <td>Chrome</td>\n",
       "      <td>-</td>\n",
       "      <td>Leisure</td>\n",
       "      <td>6/10</td>\n",
       "      <td>18.76</td>\n",
       "    </tr>\n",
       "    <tr>\n",
       "      <th>1496</th>\n",
       "      <td>1</td>\n",
       "      <td>Nielah-Eyden</td>\n",
       "      <td>11-Mar</td>\n",
       "      <td>NaN</td>\n",
       "      <td>39</td>\n",
       "      <td>Commuting</td>\n",
       "      <td>5/10</td>\n",
       "      <td>18.56</td>\n",
       "    </tr>\n",
       "    <tr>\n",
       "      <th>1497</th>\n",
       "      <td>1</td>\n",
       "      <td>Nielah-Eyden</td>\n",
       "      <td>10-Nov</td>\n",
       "      <td>Chrome</td>\n",
       "      <td>21</td>\n",
       "      <td>Commuting</td>\n",
       "      <td>8/10</td>\n",
       "      <td>20.22</td>\n",
       "    </tr>\n",
       "    <tr>\n",
       "      <th>1498</th>\n",
       "      <td>0</td>\n",
       "      <td>Nielah-Eyden</td>\n",
       "      <td>Nov</td>\n",
       "      <td>Safari</td>\n",
       "      <td>45</td>\n",
       "      <td>Commuting</td>\n",
       "      <td>3/10</td>\n",
       "      <td>18.51</td>\n",
       "    </tr>\n",
       "    <tr>\n",
       "      <th>1499</th>\n",
       "      <td>1</td>\n",
       "      <td>Hoang-Eyden</td>\n",
       "      <td>Jul</td>\n",
       "      <td>IE</td>\n",
       "      <td>37</td>\n",
       "      <td>Leisure</td>\n",
       "      <td>3/10</td>\n",
       "      <td>20.47</td>\n",
       "    </tr>\n",
       "  </tbody>\n",
       "</table>\n",
       "<p>1500 rows × 8 columns</p>\n",
       "</div>"
      ],
      "text/plain": [
       "      owned     make_model review_month web_browser reviewer_age primary_use  \\\n",
       "0         1   Nielah-Eyden          Oct      Chrome           23   Commuting   \n",
       "1         0  Nielah-Keetra          Jun         NaN           24   Commuting   \n",
       "2         0   Lunna-Keetra       23-Oct      Chrome           28   Commuting   \n",
       "3         1   Hoang-Keetra       07-Nov          IE           41     Leisure   \n",
       "4         1   Lunna-Keetra       16-Sep      Chrome           33     Leisure   \n",
       "...     ...            ...          ...         ...          ...         ...   \n",
       "1495      1   Nielah-Eyden       18-May      Chrome            -     Leisure   \n",
       "1496      1   Nielah-Eyden       11-Mar         NaN           39   Commuting   \n",
       "1497      1   Nielah-Eyden       10-Nov      Chrome           21   Commuting   \n",
       "1498      0   Nielah-Eyden          Nov      Safari           45   Commuting   \n",
       "1499      1    Hoang-Eyden          Jul          IE           37     Leisure   \n",
       "\n",
       "     value_for_money  overall_rating  \n",
       "0               5/10           18.62  \n",
       "1               4/10           15.55  \n",
       "2               5/10           12.76  \n",
       "3               5/10           17.07  \n",
       "4               5/10           12.29  \n",
       "...              ...             ...  \n",
       "1495            6/10           18.76  \n",
       "1496            5/10           18.56  \n",
       "1497            8/10           20.22  \n",
       "1498            3/10           18.51  \n",
       "1499            3/10           20.47  \n",
       "\n",
       "[1500 rows x 8 columns]"
      ]
     },
     "execution_count": 103,
     "metadata": {},
     "output_type": "execute_result"
    }
   ],
   "source": [
    "df"
   ]
  },
  {
   "cell_type": "code",
   "execution_count": 104,
   "id": "caf25214",
   "metadata": {},
   "outputs": [
    {
     "data": {
      "text/plain": [
       "(1500, 8)"
      ]
     },
     "execution_count": 104,
     "metadata": {},
     "output_type": "execute_result"
    }
   ],
   "source": [
    "df.shape"
   ]
  },
  {
   "cell_type": "code",
   "execution_count": 105,
   "id": "5f3b110f",
   "metadata": {},
   "outputs": [
    {
     "data": {
      "text/plain": [
       "owned                0\n",
       "make_model           0\n",
       "review_month         0\n",
       "web_browser        150\n",
       "reviewer_age         0\n",
       "primary_use          0\n",
       "value_for_money      0\n",
       "overall_rating       0\n",
       "dtype: int64"
      ]
     },
     "execution_count": 105,
     "metadata": {},
     "output_type": "execute_result"
    }
   ],
   "source": [
    "df.isna().sum()"
   ]
  },
  {
   "cell_type": "code",
   "execution_count": 106,
   "id": "3bb793a3",
   "metadata": {},
   "outputs": [
    {
     "data": {
      "text/html": [
       "<div>\n",
       "<style scoped>\n",
       "    .dataframe tbody tr th:only-of-type {\n",
       "        vertical-align: middle;\n",
       "    }\n",
       "\n",
       "    .dataframe tbody tr th {\n",
       "        vertical-align: top;\n",
       "    }\n",
       "\n",
       "    .dataframe thead th {\n",
       "        text-align: right;\n",
       "    }\n",
       "</style>\n",
       "<table border=\"1\" class=\"dataframe\">\n",
       "  <thead>\n",
       "    <tr style=\"text-align: right;\">\n",
       "      <th></th>\n",
       "      <th>owned</th>\n",
       "      <th>overall_rating</th>\n",
       "    </tr>\n",
       "  </thead>\n",
       "  <tbody>\n",
       "    <tr>\n",
       "      <th>count</th>\n",
       "      <td>1500.000000</td>\n",
       "      <td>1500.000000</td>\n",
       "    </tr>\n",
       "    <tr>\n",
       "      <th>mean</th>\n",
       "      <td>0.593333</td>\n",
       "      <td>17.138907</td>\n",
       "    </tr>\n",
       "    <tr>\n",
       "      <th>std</th>\n",
       "      <td>0.491375</td>\n",
       "      <td>2.445566</td>\n",
       "    </tr>\n",
       "    <tr>\n",
       "      <th>min</th>\n",
       "      <td>0.000000</td>\n",
       "      <td>11.690000</td>\n",
       "    </tr>\n",
       "    <tr>\n",
       "      <th>25%</th>\n",
       "      <td>0.000000</td>\n",
       "      <td>15.320000</td>\n",
       "    </tr>\n",
       "    <tr>\n",
       "      <th>50%</th>\n",
       "      <td>1.000000</td>\n",
       "      <td>18.240000</td>\n",
       "    </tr>\n",
       "    <tr>\n",
       "      <th>75%</th>\n",
       "      <td>1.000000</td>\n",
       "      <td>18.840000</td>\n",
       "    </tr>\n",
       "    <tr>\n",
       "      <th>max</th>\n",
       "      <td>1.000000</td>\n",
       "      <td>22.760000</td>\n",
       "    </tr>\n",
       "  </tbody>\n",
       "</table>\n",
       "</div>"
      ],
      "text/plain": [
       "             owned  overall_rating\n",
       "count  1500.000000     1500.000000\n",
       "mean      0.593333       17.138907\n",
       "std       0.491375        2.445566\n",
       "min       0.000000       11.690000\n",
       "25%       0.000000       15.320000\n",
       "50%       1.000000       18.240000\n",
       "75%       1.000000       18.840000\n",
       "max       1.000000       22.760000"
      ]
     },
     "execution_count": 106,
     "metadata": {},
     "output_type": "execute_result"
    }
   ],
   "source": [
    "df.describe()"
   ]
  },
  {
   "cell_type": "code",
   "execution_count": 107,
   "id": "e27ee874",
   "metadata": {},
   "outputs": [
    {
     "name": "stdout",
     "output_type": "stream",
     "text": [
      "<class 'pandas.core.frame.DataFrame'>\n",
      "RangeIndex: 1500 entries, 0 to 1499\n",
      "Data columns (total 8 columns):\n",
      " #   Column           Non-Null Count  Dtype  \n",
      "---  ------           --------------  -----  \n",
      " 0   owned            1500 non-null   int64  \n",
      " 1   make_model       1500 non-null   object \n",
      " 2   review_month     1500 non-null   object \n",
      " 3   web_browser      1350 non-null   object \n",
      " 4   reviewer_age     1500 non-null   object \n",
      " 5   primary_use      1500 non-null   object \n",
      " 6   value_for_money  1500 non-null   object \n",
      " 7   overall_rating   1500 non-null   float64\n",
      "dtypes: float64(1), int64(1), object(6)\n",
      "memory usage: 93.9+ KB\n"
     ]
    }
   ],
   "source": [
    "df.info()"
   ]
  },
  {
   "cell_type": "code",
   "execution_count": 108,
   "id": "7ce828b9",
   "metadata": {},
   "outputs": [
    {
     "data": {
      "text/plain": [
       "array([1, 0], dtype=int64)"
      ]
     },
     "execution_count": 108,
     "metadata": {},
     "output_type": "execute_result"
    }
   ],
   "source": [
    "df.owned.unique()"
   ]
  },
  {
   "cell_type": "code",
   "execution_count": 109,
   "id": "dcc26219",
   "metadata": {},
   "outputs": [
    {
     "data": {
      "text/plain": [
       "array(['Nielah-Eyden', 'Nielah-Keetra', 'Lunna-Keetra', 'Hoang-Keetra',\n",
       "       'Lunna-Eyden', 'Hoang-Eyden'], dtype=object)"
      ]
     },
     "execution_count": 109,
     "metadata": {},
     "output_type": "execute_result"
    }
   ],
   "source": [
    "df.make_model.unique()"
   ]
  },
  {
   "cell_type": "code",
   "execution_count": 110,
   "id": "b95e2987",
   "metadata": {},
   "outputs": [
    {
     "data": {
      "text/plain": [
       "array(['Oct', 'Jun', '23-Oct', '07-Nov', '16-Sep', '26-Aug', '01-Mar',\n",
       "       '15-Mar', '09-Mar', 'Jul', '10-Nov', 'Mar', 'Apr', 'Sep', '27-Dec',\n",
       "       '11-Nov', '07-Dec', 'Feb', 'Jan', '06-Jun', '12-Jul', '02-Aug',\n",
       "       '23-Feb', '27-Jul', '26-Nov', '30-Apr', '31-Jul', '22-Nov',\n",
       "       '05-Sep', '05-Dec', '21-Jul', '15-Nov', '07-Jun', '20-May',\n",
       "       '23-Sep', '10-Sep', '19-Oct', '28-Oct', '08-Apr', '14-Feb',\n",
       "       '28-Nov', '28-Feb', '28-Jul', '12-Apr', '25-Apr', '25-Oct',\n",
       "       '08-Jul', '29-Mar', '22-Sep', '26-Jun', '24-May', '12-Mar',\n",
       "       '15-Feb', '28-Aug', 'May', '16-Jun', '02-Jul', '06-Feb', '21-Jun',\n",
       "       'Nov', '21-Apr', '19-Jul', '31-May', '11-Aug', '14-Mar', '12-Dec',\n",
       "       '02-Apr', '23-Aug', '11-Feb', '24-Aug', '03-Jun', '01-Apr',\n",
       "       '24-Nov', 'Dec', '26-Mar', '22-Oct', '22-Jan', '17-Mar', '05-Oct',\n",
       "       '20-Mar', '13-Jul', '03-Oct', '16-Nov', '10-Apr', '12-Aug',\n",
       "       '19-Aug', '09-Oct', 'Aug', '05-Nov', '23-Dec', '06-Jul', '03-Feb',\n",
       "       '21-May', '03-Jul', '10-May', '12-Jun', '20-Oct', '17-Sep',\n",
       "       '24-Feb', '24-Sep', '14-Sep', '07-Sep', '30-Nov', '17-Jun',\n",
       "       '16-Dec', '16-Jul', '23-Jun', '16-Mar', '01-Jul', '29-Sep',\n",
       "       '26-Dec', '06-Apr', '26-Jul', '01-Sep', '30-Mar', '19-Jan',\n",
       "       '11-Dec', '15-Oct', '27-Jan', '27-Aug', '17-Jan', '04-Dec',\n",
       "       '11-Jan', '22-Mar', '19-Sep', '03-Aug', '20-Jun', '07-May',\n",
       "       '11-May', '29-Dec', '06-Dec', '30-Jun', '10-Oct', '27-Jun',\n",
       "       '17-Apr', '29-Jul', '29-Aug', '17-Feb', '06-Oct', '22-Feb',\n",
       "       '24-Dec', '21-Oct', '22-Jun', '09-Jun', '16-Aug', '27-Oct',\n",
       "       '13-Nov', '25-Mar', '19-Nov', '31-Jan', '05-May', '08-Aug',\n",
       "       '21-Sep', '04-May', '26-Jan', '22-Dec', '15-Dec', '03-Sep',\n",
       "       '24-Oct', '21-Feb', '19-May', '07-Apr', '12-Jan', '29-Jun',\n",
       "       '20-Apr', '14-Jul', '11-Jun', '03-May', '08-Oct', '14-Dec',\n",
       "       '13-Jan', '29-May', '28-Dec', '02-May', '18-Sep', '16-Jan',\n",
       "       '27-Apr', '05-Jun', '25-Dec', '19-Feb', '23-May', '06-Jan',\n",
       "       '05-Mar', '30-Jan', '26-May', '20-Dec', '13-Oct', '17-Aug',\n",
       "       '05-Jan', '08-Dec', '22-Aug', '30-Aug', '28-Jan', '06-Sep',\n",
       "       '06-Nov', '26-Oct', '14-Nov', '01-May', '13-Sep', '26-Feb',\n",
       "       '08-May', '09-Dec', '28-Mar', '28-May', '19-Jun', '25-May',\n",
       "       '13-May', '30-Jul', '08-Nov', '15-Aug', '18-May', '15-Jun',\n",
       "       '10-Feb', '20-Sep', '14-Apr', '07-Jan', '24-Jun', '18-Aug',\n",
       "       '04-Apr', '11-Jul', '10-Jul', '29-Jan', '17-Dec', '15-Jan',\n",
       "       '08-Mar', '15-Sep', '02-Feb', '14-May', '17-Nov', '28-Apr',\n",
       "       '10-Dec', '19-Mar', '06-Mar', '11-Mar', '18-Feb', '17-May',\n",
       "       '21-Aug', '18-Apr', '12-Oct', '03-Jan', '04-Jul', '21-Mar',\n",
       "       '02-Jun', '10-Jun', '03-Apr', '27-Feb', '09-Aug', '04-Jun',\n",
       "       '24-Jan', '14-Jan', '18-Dec', '09-Feb', '02-Mar', '02-Dec',\n",
       "       '24-Apr', '25-Sep', '13-Jun', '14-Jun', '02-Nov', '21-Dec',\n",
       "       '04-Sep', '01-Aug', '16-Apr', '23-Apr', '18-Mar', '11-Apr',\n",
       "       '05-Aug', '27-Sep', '18-Jan', '22-Jul', '12-May', '05-Apr',\n",
       "       '07-Feb', '28-Sep', '13-Aug', '05-Feb', '10-Mar', '16-Feb',\n",
       "       '04-Feb', '31-Dec', '02-Oct', '30-May', '25-Nov', '25-Aug',\n",
       "       '06-May', '08-Jun', '29-Apr', '01-Nov', '08-Sep', '18-Nov',\n",
       "       '09-Apr', '02-Jan', '20-Nov', '21-Nov', '03-Dec', '20-Feb',\n",
       "       '16-May', '18-Oct', '12-Nov', '30-Sep', '12-Sep', '20-Aug',\n",
       "       '26-Apr', '07-Aug', '12-Feb', '04-Aug', '10-Aug', '24-Mar',\n",
       "       '01-Jun', '01-Jan', '22-May', '09-Jan', '15-May', '18-Jun',\n",
       "       '30-Oct', '26-Sep', '04-Mar', '15-Apr', '04-Oct', '11-Oct',\n",
       "       '04-Nov', '08-Jan', '07-Jul', '21-Jan', '16-Oct', '14-Aug',\n",
       "       '29-Nov', '23-Jan', '23-Jul', '23-Nov', '09-May', '06-Aug'],\n",
       "      dtype=object)"
      ]
     },
     "execution_count": 110,
     "metadata": {},
     "output_type": "execute_result"
    }
   ],
   "source": [
    "df.review_month.unique()"
   ]
  },
  {
   "cell_type": "code",
   "execution_count": 111,
   "id": "a19f68d0",
   "metadata": {},
   "outputs": [],
   "source": [
    "df['review_month']=df['review_month'].str.split('-').str[-1]"
   ]
  },
  {
   "cell_type": "code",
   "execution_count": 112,
   "id": "dc3be8a5",
   "metadata": {},
   "outputs": [
    {
     "data": {
      "text/plain": [
       "array(['Oct', 'Jun', 'Nov', 'Sep', 'Aug', 'Mar', 'Jul', 'Apr', 'Dec',\n",
       "       'Feb', 'Jan', 'May'], dtype=object)"
      ]
     },
     "execution_count": 112,
     "metadata": {},
     "output_type": "execute_result"
    }
   ],
   "source": [
    "df.review_month.unique()"
   ]
  },
  {
   "cell_type": "code",
   "execution_count": 113,
   "id": "79043e79",
   "metadata": {},
   "outputs": [],
   "source": [
    "df['web_browser']=df['web_browser'].fillna('unknown')"
   ]
  },
  {
   "cell_type": "code",
   "execution_count": 114,
   "id": "d96eb557",
   "metadata": {},
   "outputs": [
    {
     "data": {
      "text/plain": [
       "owned              0\n",
       "make_model         0\n",
       "review_month       0\n",
       "web_browser        0\n",
       "reviewer_age       0\n",
       "primary_use        0\n",
       "value_for_money    0\n",
       "overall_rating     0\n",
       "dtype: int64"
      ]
     },
     "execution_count": 114,
     "metadata": {},
     "output_type": "execute_result"
    }
   ],
   "source": [
    "df.isna().sum()"
   ]
  },
  {
   "cell_type": "code",
   "execution_count": 115,
   "id": "0a607972",
   "metadata": {},
   "outputs": [
    {
     "data": {
      "text/plain": [
       "array(['Chrome', 'unknown', 'IE', 'Firefox', 'Safari', 'Android', 'Opera'],\n",
       "      dtype=object)"
      ]
     },
     "execution_count": 115,
     "metadata": {},
     "output_type": "execute_result"
    }
   ],
   "source": [
    "df.web_browser.unique()"
   ]
  },
  {
   "cell_type": "code",
   "execution_count": 116,
   "id": "095736b1",
   "metadata": {},
   "outputs": [
    {
     "data": {
      "text/plain": [
       "array(['23', '24', '28', '41', '33', '47', '20', '32', '35', '22', '29',\n",
       "       '39', '42', '36', '40', '27', '48', '34', '16', '21', '25', '30',\n",
       "       '-', '46', '37', '31', '17', '44', '26', '38', '49', '50', '45',\n",
       "       '19', '43', '18'], dtype=object)"
      ]
     },
     "execution_count": 116,
     "metadata": {},
     "output_type": "execute_result"
    }
   ],
   "source": [
    "df.reviewer_age.unique()"
   ]
  },
  {
   "cell_type": "code",
   "execution_count": 117,
   "id": "5057e99a",
   "metadata": {},
   "outputs": [],
   "source": [
    "df['reviewer_age'] = df['reviewer_age'].replace('-','0')"
   ]
  },
  {
   "cell_type": "code",
   "execution_count": 118,
   "id": "ba76634e",
   "metadata": {},
   "outputs": [
    {
     "data": {
      "text/plain": [
       "array(['23', '24', '28', '41', '33', '47', '20', '32', '35', '22', '29',\n",
       "       '39', '42', '36', '40', '27', '48', '34', '16', '21', '25', '30',\n",
       "       '0', '46', '37', '31', '17', '44', '26', '38', '49', '50', '45',\n",
       "       '19', '43', '18'], dtype=object)"
      ]
     },
     "execution_count": 118,
     "metadata": {},
     "output_type": "execute_result"
    }
   ],
   "source": [
    "df.reviewer_age.unique()"
   ]
  },
  {
   "cell_type": "code",
   "execution_count": 119,
   "id": "04760cb9",
   "metadata": {},
   "outputs": [],
   "source": [
    "df['reviewer_age']=df['reviewer_age'].astype('int')"
   ]
  },
  {
   "cell_type": "code",
   "execution_count": 120,
   "id": "9dc488d6",
   "metadata": {},
   "outputs": [],
   "source": [
    "df['reviewer_age'] = df['reviewer_age'].replace(0,int(df['reviewer_age'].mean()))"
   ]
  },
  {
   "cell_type": "code",
   "execution_count": 121,
   "id": "bfb9944d",
   "metadata": {},
   "outputs": [
    {
     "data": {
      "text/plain": [
       "array([23, 24, 28, 41, 33, 47, 20, 32, 35, 22, 29, 39, 42, 36, 40, 27, 48,\n",
       "       34, 16, 21, 25, 30, 46, 37, 31, 17, 44, 26, 38, 49, 50, 45, 19, 43,\n",
       "       18])"
      ]
     },
     "execution_count": 121,
     "metadata": {},
     "output_type": "execute_result"
    }
   ],
   "source": [
    "df.reviewer_age.unique()"
   ]
  },
  {
   "cell_type": "code",
   "execution_count": 122,
   "id": "559ee767",
   "metadata": {},
   "outputs": [
    {
     "data": {
      "text/plain": [
       "array(['Commuting', 'Leisure'], dtype=object)"
      ]
     },
     "execution_count": 122,
     "metadata": {},
     "output_type": "execute_result"
    }
   ],
   "source": [
    "df.primary_use.unique()"
   ]
  },
  {
   "cell_type": "code",
   "execution_count": 123,
   "id": "522e5b30",
   "metadata": {},
   "outputs": [
    {
     "data": {
      "text/plain": [
       "array(['5/10', '4/10', '3/10', '7/10', '6/10', '2/10', '9/10', '8/10',\n",
       "       '10/10', '1/10'], dtype=object)"
      ]
     },
     "execution_count": 123,
     "metadata": {},
     "output_type": "execute_result"
    }
   ],
   "source": [
    "df.value_for_money.unique()"
   ]
  },
  {
   "cell_type": "code",
   "execution_count": 124,
   "id": "17d86075",
   "metadata": {},
   "outputs": [],
   "source": [
    "df['value_for_money']=df['value_for_money'].str.split('/').str[0]"
   ]
  },
  {
   "cell_type": "code",
   "execution_count": 125,
   "id": "ca98687b",
   "metadata": {},
   "outputs": [
    {
     "data": {
      "text/plain": [
       "array(['5', '4', '3', '7', '6', '2', '9', '8', '10', '1'], dtype=object)"
      ]
     },
     "execution_count": 125,
     "metadata": {},
     "output_type": "execute_result"
    }
   ],
   "source": [
    "df.value_for_money.unique()"
   ]
  },
  {
   "cell_type": "code",
   "execution_count": 126,
   "id": "4a833ce9",
   "metadata": {},
   "outputs": [
    {
     "data": {
      "text/plain": [
       "array([18.62, 15.55, 12.76, 17.07, 12.29, 15.28, 12.28, 15.92, 19.39,\n",
       "       18.38, 19.26, 15.84, 19.25, 19.11, 19.23, 19.66, 20.38, 18.28,\n",
       "       18.23, 12.33, 16.  , 12.93, 17.27, 18.83, 12.05, 15.2 , 18.86,\n",
       "       15.14, 20.94, 14.73, 15.12, 19.06, 18.75, 16.25, 15.73, 20.2 ,\n",
       "       18.51, 18.32, 17.93, 19.08, 17.24, 12.06, 16.93, 18.4 , 20.18,\n",
       "       12.01, 14.8 , 18.77, 19.18, 20.33, 12.07, 15.13, 19.02, 18.31,\n",
       "       18.64, 18.85, 18.61, 12.14, 18.14, 17.37, 22.76, 12.22, 15.83,\n",
       "       21.33, 18.55, 16.59, 16.17, 12.5 , 15.06, 18.13, 14.79, 18.29,\n",
       "       12.84, 13.18, 15.22, 19.13, 19.16, 12.17, 15.42, 16.97, 15.44,\n",
       "       18.76, 15.26, 12.82, 15.38, 16.56, 17.13, 19.32, 16.98, 15.5 ,\n",
       "       15.23, 20.29, 17.44, 18.74, 12.57, 17.42, 21.18, 15.85, 14.88,\n",
       "       17.67, 14.71, 20.  , 15.51, 20.12, 18.93, 14.98, 18.88, 14.75,\n",
       "       19.53, 14.81, 20.93, 18.7 , 18.34, 12.49, 12.83, 15.36, 19.97,\n",
       "       15.47, 15.54, 20.16, 18.95, 20.96, 15.65, 18.42, 19.01, 15.63,\n",
       "       11.97, 18.47, 15.29, 19.34, 14.66, 18.41, 18.1 , 19.6 , 18.03,\n",
       "       20.55, 13.17, 18.49, 18.45, 20.77, 15.17, 16.52, 18.17, 14.97,\n",
       "       12.12, 15.46, 19.21, 20.08, 19.55, 18.53, 19.28, 15.71, 18.44,\n",
       "       17.54, 18.59, 14.83, 17.16, 16.16, 15.19, 12.6 , 13.04, 14.78,\n",
       "       19.  , 19.87, 15.52, 15.27, 18.37, 20.83, 14.82, 18.25, 20.27,\n",
       "       12.46, 20.14, 19.74, 11.95, 12.53, 18.8 , 15.03, 17.02, 16.38,\n",
       "       16.35, 20.19, 12.56, 15.35, 15.04, 15.01, 12.23, 17.6 , 12.34,\n",
       "       18.22, 12.8 , 12.32, 18.3 , 15.32, 12.31, 20.61, 18.84, 15.79,\n",
       "       18.91, 15.58, 19.37, 14.76, 15.9 , 12.44, 18.58, 12.55, 16.11,\n",
       "       15.37, 18.46, 20.22, 19.71, 21.1 , 16.19, 15.21, 12.26, 21.04,\n",
       "       20.03, 18.89, 18.67, 17.43, 17.2 , 18.52, 18.63, 21.25, 18.5 ,\n",
       "       18.36, 12.21, 12.89, 17.21, 18.96, 18.2 , 18.87, 18.97, 19.52,\n",
       "       14.85, 12.65, 19.67, 18.92, 20.15, 18.08, 19.05, 18.54, 12.27,\n",
       "       11.87, 18.27, 18.39, 18.15, 15.02, 17.18, 18.79, 14.74, 17.51,\n",
       "       15.8 , 19.12, 18.21, 12.59, 18.82, 17.29, 17.96, 18.24, 12.92,\n",
       "       15.49, 18.9 , 20.13, 16.01, 12.41, 19.44, 15.57, 18.68, 15.61,\n",
       "       12.08, 20.5 , 21.24, 20.46, 17.68, 19.57, 17.22, 19.03, 19.3 ,\n",
       "       15.48, 13.13, 12.02, 15.07, 20.6 , 15.11, 20.42, 17.81, 17.25,\n",
       "       18.43, 20.35, 20.4 , 12.18, 18.69, 17.73, 20.95, 17.75, 18.04,\n",
       "       17.23, 18.48, 19.22, 14.84, 19.61, 15.18, 19.19, 17.48, 19.36,\n",
       "       15.77, 18.26, 14.72, 17.74, 12.64, 19.95, 11.69, 21.08, 15.98,\n",
       "       18.57, 16.24, 20.26, 14.92, 11.93, 18.56, 15.15, 16.18, 20.28,\n",
       "       15.4 , 17.57, 17.4 , 15.72, 19.09, 11.84, 15.1 , 21.81, 17.09,\n",
       "       12.74, 20.45, 18.33, 18.94, 14.96, 17.03, 19.49, 16.04, 15.78,\n",
       "       12.87, 11.94, 22.06, 17.66, 12.7 , 21.35, 17.5 , 15.3 , 17.65,\n",
       "       19.85, 20.06, 15.95, 15.25, 19.17, 17.1 , 15.67, 15.86, 19.1 ,\n",
       "       16.2 , 18.71, 12.1 , 20.71, 15.89, 15.74, 18.66, 15.31, 18.  ,\n",
       "       15.93, 15.33, 15.45, 20.98, 20.89, 16.02, 17.36, 17.58, 18.72,\n",
       "       17.26, 20.01, 14.77, 15.16, 17.71, 20.07, 17.15, 15.  , 20.3 ,\n",
       "       19.78, 20.79, 18.19, 18.98, 20.43, 18.35, 19.64, 18.6 , 12.39,\n",
       "       15.76, 17.17, 18.11, 12.42, 18.81, 14.86, 18.65, 20.05, 16.28,\n",
       "       17.7 , 12.4 , 16.06, 20.72, 17.08, 16.14, 16.29, 19.59, 16.1 ,\n",
       "       17.84, 20.21, 15.08, 17.46, 19.68, 16.37, 15.64, 22.59, 17.38,\n",
       "       18.18, 17.41, 16.61, 14.91, 21.17, 20.47, 20.64, 20.51, 12.86,\n",
       "       15.75, 12.15, 20.32, 18.99, 21.64, 20.59, 15.05, 19.4 , 17.63,\n",
       "       19.48, 19.29, 19.46, 15.24, 15.6 , 19.14, 15.34, 15.68, 20.48,\n",
       "       16.5 , 19.07, 12.  , 12.47, 16.7 , 20.49, 19.04, 11.92, 11.85,\n",
       "       20.31, 22.01, 20.34, 17.11, 14.89, 12.38, 20.86, 19.72, 12.52,\n",
       "       20.56, 13.1 , 12.48, 17.14, 15.62, 15.69, 18.07, 21.37, 12.3 ,\n",
       "       16.26, 16.09, 18.78, 11.96, 22.41, 12.2 , 20.7 , 19.15, 12.16,\n",
       "       11.83, 17.97, 19.2 , 17.78, 17.39, 20.41, 20.1 , 19.94, 19.56,\n",
       "       15.41, 20.8 , 19.92, 14.65, 15.81, 19.76, 12.43, 15.82, 12.54,\n",
       "       15.87, 19.35, 17.52, 16.03, 17.69, 15.59, 17.47, 17.86, 20.23,\n",
       "       20.53, 12.69, 14.93, 19.31, 12.13, 17.85, 15.66, 12.73, 15.43,\n",
       "       17.04, 11.82, 15.09, 20.62, 17.9 , 16.45, 17.91, 12.37, 16.05,\n",
       "       12.62, 16.6 , 18.12, 14.99, 20.97, 11.88, 12.25, 18.73, 20.39,\n",
       "       19.58, 12.45, 19.24, 20.11, 19.54, 11.75, 12.81, 13.33, 11.78,\n",
       "       19.88, 17.76, 14.7 , 19.91, 11.79, 20.02, 20.17, 19.62, 14.9 ,\n",
       "       20.36, 17.3 , 17.49, 19.75, 17.83, 12.61, 12.19, 13.67, 16.36,\n",
       "       19.83, 16.51, 17.31, 12.72, 15.39, 21.97, 19.98, 12.68, 16.15,\n",
       "       19.33, 15.94, 21.07, 17.32, 19.51, 12.97, 19.79])"
      ]
     },
     "execution_count": 126,
     "metadata": {},
     "output_type": "execute_result"
    }
   ],
   "source": [
    "df.overall_rating.unique()"
   ]
  },
  {
   "cell_type": "code",
   "execution_count": 127,
   "id": "eb1ce5d8",
   "metadata": {},
   "outputs": [
    {
     "data": {
      "text/plain": [
       "owned              0\n",
       "make_model         0\n",
       "review_month       0\n",
       "web_browser        0\n",
       "reviewer_age       0\n",
       "primary_use        0\n",
       "value_for_money    0\n",
       "overall_rating     0\n",
       "dtype: int64"
      ]
     },
     "execution_count": 127,
     "metadata": {},
     "output_type": "execute_result"
    }
   ],
   "source": [
    "df.isna().sum()"
   ]
  },
  {
   "cell_type": "code",
   "execution_count": 128,
   "id": "db251fe2",
   "metadata": {},
   "outputs": [
    {
     "data": {
      "text/html": [
       "<div>\n",
       "<style scoped>\n",
       "    .dataframe tbody tr th:only-of-type {\n",
       "        vertical-align: middle;\n",
       "    }\n",
       "\n",
       "    .dataframe tbody tr th {\n",
       "        vertical-align: top;\n",
       "    }\n",
       "\n",
       "    .dataframe thead th {\n",
       "        text-align: right;\n",
       "    }\n",
       "</style>\n",
       "<table border=\"1\" class=\"dataframe\">\n",
       "  <thead>\n",
       "    <tr style=\"text-align: right;\">\n",
       "      <th></th>\n",
       "      <th>owned</th>\n",
       "      <th>make_model</th>\n",
       "      <th>review_month</th>\n",
       "      <th>web_browser</th>\n",
       "      <th>reviewer_age</th>\n",
       "      <th>primary_use</th>\n",
       "      <th>value_for_money</th>\n",
       "      <th>overall_rating</th>\n",
       "    </tr>\n",
       "  </thead>\n",
       "  <tbody>\n",
       "    <tr>\n",
       "      <th>0</th>\n",
       "      <td>1</td>\n",
       "      <td>Nielah-Eyden</td>\n",
       "      <td>Oct</td>\n",
       "      <td>Chrome</td>\n",
       "      <td>23</td>\n",
       "      <td>Commuting</td>\n",
       "      <td>5</td>\n",
       "      <td>18.62</td>\n",
       "    </tr>\n",
       "    <tr>\n",
       "      <th>1</th>\n",
       "      <td>0</td>\n",
       "      <td>Nielah-Keetra</td>\n",
       "      <td>Jun</td>\n",
       "      <td>unknown</td>\n",
       "      <td>24</td>\n",
       "      <td>Commuting</td>\n",
       "      <td>4</td>\n",
       "      <td>15.55</td>\n",
       "    </tr>\n",
       "    <tr>\n",
       "      <th>2</th>\n",
       "      <td>0</td>\n",
       "      <td>Lunna-Keetra</td>\n",
       "      <td>Oct</td>\n",
       "      <td>Chrome</td>\n",
       "      <td>28</td>\n",
       "      <td>Commuting</td>\n",
       "      <td>5</td>\n",
       "      <td>12.76</td>\n",
       "    </tr>\n",
       "    <tr>\n",
       "      <th>3</th>\n",
       "      <td>1</td>\n",
       "      <td>Hoang-Keetra</td>\n",
       "      <td>Nov</td>\n",
       "      <td>IE</td>\n",
       "      <td>41</td>\n",
       "      <td>Leisure</td>\n",
       "      <td>5</td>\n",
       "      <td>17.07</td>\n",
       "    </tr>\n",
       "    <tr>\n",
       "      <th>4</th>\n",
       "      <td>1</td>\n",
       "      <td>Lunna-Keetra</td>\n",
       "      <td>Sep</td>\n",
       "      <td>Chrome</td>\n",
       "      <td>33</td>\n",
       "      <td>Leisure</td>\n",
       "      <td>5</td>\n",
       "      <td>12.29</td>\n",
       "    </tr>\n",
       "    <tr>\n",
       "      <th>...</th>\n",
       "      <td>...</td>\n",
       "      <td>...</td>\n",
       "      <td>...</td>\n",
       "      <td>...</td>\n",
       "      <td>...</td>\n",
       "      <td>...</td>\n",
       "      <td>...</td>\n",
       "      <td>...</td>\n",
       "    </tr>\n",
       "    <tr>\n",
       "      <th>1495</th>\n",
       "      <td>1</td>\n",
       "      <td>Nielah-Eyden</td>\n",
       "      <td>May</td>\n",
       "      <td>Chrome</td>\n",
       "      <td>30</td>\n",
       "      <td>Leisure</td>\n",
       "      <td>6</td>\n",
       "      <td>18.76</td>\n",
       "    </tr>\n",
       "    <tr>\n",
       "      <th>1496</th>\n",
       "      <td>1</td>\n",
       "      <td>Nielah-Eyden</td>\n",
       "      <td>Mar</td>\n",
       "      <td>unknown</td>\n",
       "      <td>39</td>\n",
       "      <td>Commuting</td>\n",
       "      <td>5</td>\n",
       "      <td>18.56</td>\n",
       "    </tr>\n",
       "    <tr>\n",
       "      <th>1497</th>\n",
       "      <td>1</td>\n",
       "      <td>Nielah-Eyden</td>\n",
       "      <td>Nov</td>\n",
       "      <td>Chrome</td>\n",
       "      <td>21</td>\n",
       "      <td>Commuting</td>\n",
       "      <td>8</td>\n",
       "      <td>20.22</td>\n",
       "    </tr>\n",
       "    <tr>\n",
       "      <th>1498</th>\n",
       "      <td>0</td>\n",
       "      <td>Nielah-Eyden</td>\n",
       "      <td>Nov</td>\n",
       "      <td>Safari</td>\n",
       "      <td>45</td>\n",
       "      <td>Commuting</td>\n",
       "      <td>3</td>\n",
       "      <td>18.51</td>\n",
       "    </tr>\n",
       "    <tr>\n",
       "      <th>1499</th>\n",
       "      <td>1</td>\n",
       "      <td>Hoang-Eyden</td>\n",
       "      <td>Jul</td>\n",
       "      <td>IE</td>\n",
       "      <td>37</td>\n",
       "      <td>Leisure</td>\n",
       "      <td>3</td>\n",
       "      <td>20.47</td>\n",
       "    </tr>\n",
       "  </tbody>\n",
       "</table>\n",
       "<p>1500 rows × 8 columns</p>\n",
       "</div>"
      ],
      "text/plain": [
       "      owned     make_model review_month web_browser  reviewer_age primary_use  \\\n",
       "0         1   Nielah-Eyden          Oct      Chrome            23   Commuting   \n",
       "1         0  Nielah-Keetra          Jun     unknown            24   Commuting   \n",
       "2         0   Lunna-Keetra          Oct      Chrome            28   Commuting   \n",
       "3         1   Hoang-Keetra          Nov          IE            41     Leisure   \n",
       "4         1   Lunna-Keetra          Sep      Chrome            33     Leisure   \n",
       "...     ...            ...          ...         ...           ...         ...   \n",
       "1495      1   Nielah-Eyden          May      Chrome            30     Leisure   \n",
       "1496      1   Nielah-Eyden          Mar     unknown            39   Commuting   \n",
       "1497      1   Nielah-Eyden          Nov      Chrome            21   Commuting   \n",
       "1498      0   Nielah-Eyden          Nov      Safari            45   Commuting   \n",
       "1499      1    Hoang-Eyden          Jul          IE            37     Leisure   \n",
       "\n",
       "     value_for_money  overall_rating  \n",
       "0                  5           18.62  \n",
       "1                  4           15.55  \n",
       "2                  5           12.76  \n",
       "3                  5           17.07  \n",
       "4                  5           12.29  \n",
       "...              ...             ...  \n",
       "1495               6           18.76  \n",
       "1496               5           18.56  \n",
       "1497               8           20.22  \n",
       "1498               3           18.51  \n",
       "1499               3           20.47  \n",
       "\n",
       "[1500 rows x 8 columns]"
      ]
     },
     "execution_count": 128,
     "metadata": {},
     "output_type": "execute_result"
    }
   ],
   "source": [
    "df"
   ]
  },
  {
   "cell_type": "code",
   "execution_count": 129,
   "id": "8b6a5d39",
   "metadata": {},
   "outputs": [
    {
     "data": {
      "text/plain": [
       "(1500, 8)"
      ]
     },
     "execution_count": 129,
     "metadata": {},
     "output_type": "execute_result"
    }
   ],
   "source": [
    "df.shape"
   ]
  },
  {
   "cell_type": "code",
   "execution_count": 84,
   "id": "77bdff16",
   "metadata": {},
   "outputs": [
    {
     "data": {
      "text/plain": [
       "owned        890\n",
       "not owned    610\n",
       "Name: owned, dtype: int64"
      ]
     },
     "execution_count": 84,
     "metadata": {},
     "output_type": "execute_result"
    }
   ],
   "source": [
    "owned_dictionary = {1 : 'owned', 0:'not owned'}\n",
    "df['owned']= df['owned'].replace(owned_dictionary)\n",
    "df['owned'].value_counts()"
   ]
  },
  {
   "cell_type": "code",
   "execution_count": 85,
   "id": "2de9da22",
   "metadata": {},
   "outputs": [
    {
     "data": {
      "text/plain": [
       "<AxesSubplot:>"
      ]
     },
     "execution_count": 85,
     "metadata": {},
     "output_type": "execute_result"
    },
    {
     "data": {
      "image/png": "[encoded data removed]",
      "text/plain": [
       "<Figure size 432x288 with 1 Axes>"
      ]
     },
     "metadata": {
      "needs_background": "light"
     },
     "output_type": "display_data"
    }
   ],
   "source": [
    "df['owned'].value_counts().plot(kind='bar')"
   ]
  },
  {
   "cell_type": "code",
   "execution_count": 86,
   "id": "7d51255b",
   "metadata": {},
   "outputs": [
    {
     "data": {
      "text/plain": [
       "<AxesSubplot:ylabel='Density'>"
      ]
     },
     "execution_count": 86,
     "metadata": {},
     "output_type": "execute_result"
    },
    {
     "data": {
      "image/png": "[encoded data removed]",
      "text/plain": [
       "<Figure size 432x288 with 1 Axes>"
      ]
     },
     "metadata": {
      "needs_background": "light"
     },
     "output_type": "display_data"
    }
   ],
   "source": [
    "df['overall_rating'].plot(kind='kde')"
   ]
  },
  {
   "cell_type": "code",
   "execution_count": 87,
   "id": "6ae6492e",
   "metadata": {},
   "outputs": [
    {
     "data": {
      "text/plain": [
       "<AxesSubplot:xlabel='owned', ylabel='overall_rating'>"
      ]
     },
     "execution_count": 87,
     "metadata": {},
     "output_type": "execute_result"
    },
    {
     "data": {
      "image/png": "[encoded data removed]",
      "text/plain": [
       "<Figure size 432x288 with 1 Axes>"
      ]
     },
     "metadata": {
      "needs_background": "light"
     },
     "output_type": "display_data"
    }
   ],
   "source": [
    "import seaborn as sns\n",
    "sns.boxplot(x='owned', y='overall_rating', data=df)"
   ]
  },
  {
   "cell_type": "code",
   "execution_count": 88,
   "id": "e70130a7",
   "metadata": {},
   "outputs": [],
   "source": [
    "import matplotlib.pyplot as plt\n",
    "from sklearn.model_selection import train_test_split\n",
    "from sklearn.linear_model import LogisticRegression\n",
    "from sklearn.model_selection import GridSearchCV\n",
    "from sklearn.svm import SVC\n",
    "from sklearn.tree import DecisionTreeClassifier\n",
    "from sklearn.neighbors import KNeighborsClassifier\n",
    "from sklearn.ensemble import VotingClassifier, RandomForestClassifier, AdaBoostClassifier, GradientBoostingClassifier\n",
    "from sklearn.metrics import mean_absolute_error, mean_squared_error, confusion_matrix, classification_report, roc_curve, roc_auc_score, accuracy_score"
   ]
  },
  {
   "cell_type": "code",
   "execution_count": 97,
   "id": "aded6bc1",
   "metadata": {},
   "outputs": [
    {
     "name": "stderr",
     "output_type": "stream",
     "text": [
      "C:\\Users\\HP Elitebook\\anaconda3\\lib\\site-packages\\sklearn\\utils\\deprecation.py:87: FutureWarning: Function get_feature_names is deprecated; get_feature_names is deprecated in 1.0 and will be removed in 1.2. Please use get_feature_names_out instead.\n",
      "  warnings.warn(msg, category=FutureWarning)\n"
     ]
    },
    {
     "data": {
      "text/html": [
       "<div>\n",
       "<style scoped>\n",
       "    .dataframe tbody tr th:only-of-type {\n",
       "        vertical-align: middle;\n",
       "    }\n",
       "\n",
       "    .dataframe tbody tr th {\n",
       "        vertical-align: top;\n",
       "    }\n",
       "\n",
       "    .dataframe thead th {\n",
       "        text-align: right;\n",
       "    }\n",
       "</style>\n",
       "<table border=\"1\" class=\"dataframe\">\n",
       "  <thead>\n",
       "    <tr style=\"text-align: right;\">\n",
       "      <th></th>\n",
       "      <th>owned</th>\n",
       "      <th>review_month</th>\n",
       "      <th>web_browser</th>\n",
       "      <th>reviewer_age</th>\n",
       "      <th>primary_use</th>\n",
       "      <th>value_for_money</th>\n",
       "      <th>overall_rating</th>\n",
       "      <th>make_model_Hoang-Eyden</th>\n",
       "      <th>make_model_Hoang-Keetra</th>\n",
       "      <th>make_model_Lunna-Eyden</th>\n",
       "      <th>make_model_Lunna-Keetra</th>\n",
       "      <th>make_model_Nielah-Eyden</th>\n",
       "      <th>make_model_Nielah-Keetra</th>\n",
       "    </tr>\n",
       "  </thead>\n",
       "  <tbody>\n",
       "    <tr>\n",
       "      <th>0</th>\n",
       "      <td>owned</td>\n",
       "      <td>Oct</td>\n",
       "      <td>Chrome</td>\n",
       "      <td>23</td>\n",
       "      <td>Commuting</td>\n",
       "      <td>5</td>\n",
       "      <td>18.62</td>\n",
       "      <td>0.0</td>\n",
       "      <td>0.0</td>\n",
       "      <td>0.0</td>\n",
       "      <td>0.0</td>\n",
       "      <td>1.0</td>\n",
       "      <td>0.0</td>\n",
       "    </tr>\n",
       "    <tr>\n",
       "      <th>1</th>\n",
       "      <td>not owned</td>\n",
       "      <td>Jun</td>\n",
       "      <td>unknown</td>\n",
       "      <td>24</td>\n",
       "      <td>Commuting</td>\n",
       "      <td>4</td>\n",
       "      <td>15.55</td>\n",
       "      <td>0.0</td>\n",
       "      <td>0.0</td>\n",
       "      <td>0.0</td>\n",
       "      <td>0.0</td>\n",
       "      <td>0.0</td>\n",
       "      <td>1.0</td>\n",
       "    </tr>\n",
       "    <tr>\n",
       "      <th>2</th>\n",
       "      <td>not owned</td>\n",
       "      <td>Oct</td>\n",
       "      <td>Chrome</td>\n",
       "      <td>28</td>\n",
       "      <td>Commuting</td>\n",
       "      <td>5</td>\n",
       "      <td>12.76</td>\n",
       "      <td>0.0</td>\n",
       "      <td>0.0</td>\n",
       "      <td>0.0</td>\n",
       "      <td>1.0</td>\n",
       "      <td>0.0</td>\n",
       "      <td>0.0</td>\n",
       "    </tr>\n",
       "    <tr>\n",
       "      <th>3</th>\n",
       "      <td>owned</td>\n",
       "      <td>Nov</td>\n",
       "      <td>IE</td>\n",
       "      <td>41</td>\n",
       "      <td>Leisure</td>\n",
       "      <td>5</td>\n",
       "      <td>17.07</td>\n",
       "      <td>0.0</td>\n",
       "      <td>1.0</td>\n",
       "      <td>0.0</td>\n",
       "      <td>0.0</td>\n",
       "      <td>0.0</td>\n",
       "      <td>0.0</td>\n",
       "    </tr>\n",
       "    <tr>\n",
       "      <th>4</th>\n",
       "      <td>owned</td>\n",
       "      <td>Sep</td>\n",
       "      <td>Chrome</td>\n",
       "      <td>33</td>\n",
       "      <td>Leisure</td>\n",
       "      <td>5</td>\n",
       "      <td>12.29</td>\n",
       "      <td>0.0</td>\n",
       "      <td>0.0</td>\n",
       "      <td>0.0</td>\n",
       "      <td>1.0</td>\n",
       "      <td>0.0</td>\n",
       "      <td>0.0</td>\n",
       "    </tr>\n",
       "    <tr>\n",
       "      <th>...</th>\n",
       "      <td>...</td>\n",
       "      <td>...</td>\n",
       "      <td>...</td>\n",
       "      <td>...</td>\n",
       "      <td>...</td>\n",
       "      <td>...</td>\n",
       "      <td>...</td>\n",
       "      <td>...</td>\n",
       "      <td>...</td>\n",
       "      <td>...</td>\n",
       "      <td>...</td>\n",
       "      <td>...</td>\n",
       "      <td>...</td>\n",
       "    </tr>\n",
       "    <tr>\n",
       "      <th>1495</th>\n",
       "      <td>owned</td>\n",
       "      <td>May</td>\n",
       "      <td>Chrome</td>\n",
       "      <td>30</td>\n",
       "      <td>Leisure</td>\n",
       "      <td>6</td>\n",
       "      <td>18.76</td>\n",
       "      <td>0.0</td>\n",
       "      <td>0.0</td>\n",
       "      <td>0.0</td>\n",
       "      <td>0.0</td>\n",
       "      <td>1.0</td>\n",
       "      <td>0.0</td>\n",
       "    </tr>\n",
       "    <tr>\n",
       "      <th>1496</th>\n",
       "      <td>owned</td>\n",
       "      <td>Mar</td>\n",
       "      <td>unknown</td>\n",
       "      <td>39</td>\n",
       "      <td>Commuting</td>\n",
       "      <td>5</td>\n",
       "      <td>18.56</td>\n",
       "      <td>0.0</td>\n",
       "      <td>0.0</td>\n",
       "      <td>0.0</td>\n",
       "      <td>0.0</td>\n",
       "      <td>1.0</td>\n",
       "      <td>0.0</td>\n",
       "    </tr>\n",
       "    <tr>\n",
       "      <th>1497</th>\n",
       "      <td>owned</td>\n",
       "      <td>Nov</td>\n",
       "      <td>Chrome</td>\n",
       "      <td>21</td>\n",
       "      <td>Commuting</td>\n",
       "      <td>8</td>\n",
       "      <td>20.22</td>\n",
       "      <td>0.0</td>\n",
       "      <td>0.0</td>\n",
       "      <td>0.0</td>\n",
       "      <td>0.0</td>\n",
       "      <td>1.0</td>\n",
       "      <td>0.0</td>\n",
       "    </tr>\n",
       "    <tr>\n",
       "      <th>1498</th>\n",
       "      <td>not owned</td>\n",
       "      <td>Nov</td>\n",
       "      <td>Safari</td>\n",
       "      <td>45</td>\n",
       "      <td>Commuting</td>\n",
       "      <td>3</td>\n",
       "      <td>18.51</td>\n",
       "      <td>0.0</td>\n",
       "      <td>0.0</td>\n",
       "      <td>0.0</td>\n",
       "      <td>0.0</td>\n",
       "      <td>1.0</td>\n",
       "      <td>0.0</td>\n",
       "    </tr>\n",
       "    <tr>\n",
       "      <th>1499</th>\n",
       "      <td>owned</td>\n",
       "      <td>Jul</td>\n",
       "      <td>IE</td>\n",
       "      <td>37</td>\n",
       "      <td>Leisure</td>\n",
       "      <td>3</td>\n",
       "      <td>20.47</td>\n",
       "      <td>1.0</td>\n",
       "      <td>0.0</td>\n",
       "      <td>0.0</td>\n",
       "      <td>0.0</td>\n",
       "      <td>0.0</td>\n",
       "      <td>0.0</td>\n",
       "    </tr>\n",
       "  </tbody>\n",
       "</table>\n",
       "<p>1500 rows × 13 columns</p>\n",
       "</div>"
      ],
      "text/plain": [
       "          owned review_month web_browser  reviewer_age primary_use  \\\n",
       "0         owned          Oct      Chrome            23   Commuting   \n",
       "1     not owned          Jun     unknown            24   Commuting   \n",
       "2     not owned          Oct      Chrome            28   Commuting   \n",
       "3         owned          Nov          IE            41     Leisure   \n",
       "4         owned          Sep      Chrome            33     Leisure   \n",
       "...         ...          ...         ...           ...         ...   \n",
       "1495      owned          May      Chrome            30     Leisure   \n",
       "1496      owned          Mar     unknown            39   Commuting   \n",
       "1497      owned          Nov      Chrome            21   Commuting   \n",
       "1498  not owned          Nov      Safari            45   Commuting   \n",
       "1499      owned          Jul          IE            37     Leisure   \n",
       "\n",
       "     value_for_money  overall_rating  make_model_Hoang-Eyden  \\\n",
       "0                  5           18.62                     0.0   \n",
       "1                  4           15.55                     0.0   \n",
       "2                  5           12.76                     0.0   \n",
       "3                  5           17.07                     0.0   \n",
       "4                  5           12.29                     0.0   \n",
       "...              ...             ...                     ...   \n",
       "1495               6           18.76                     0.0   \n",
       "1496               5           18.56                     0.0   \n",
       "1497               8           20.22                     0.0   \n",
       "1498               3           18.51                     0.0   \n",
       "1499               3           20.47                     1.0   \n",
       "\n",
       "      make_model_Hoang-Keetra  make_model_Lunna-Eyden  \\\n",
       "0                         0.0                     0.0   \n",
       "1                         0.0                     0.0   \n",
       "2                         0.0                     0.0   \n",
       "3                         1.0                     0.0   \n",
       "4                         0.0                     0.0   \n",
       "...                       ...                     ...   \n",
       "1495                      0.0                     0.0   \n",
       "1496                      0.0                     0.0   \n",
       "1497                      0.0                     0.0   \n",
       "1498                      0.0                     0.0   \n",
       "1499                      0.0                     0.0   \n",
       "\n",
       "      make_model_Lunna-Keetra  make_model_Nielah-Eyden  \\\n",
       "0                         0.0                      1.0   \n",
       "1                         0.0                      0.0   \n",
       "2                         1.0                      0.0   \n",
       "3                         0.0                      0.0   \n",
       "4                         1.0                      0.0   \n",
       "...                       ...                      ...   \n",
       "1495                      0.0                      1.0   \n",
       "1496                      0.0                      1.0   \n",
       "1497                      0.0                      1.0   \n",
       "1498                      0.0                      1.0   \n",
       "1499                      0.0                      0.0   \n",
       "\n",
       "      make_model_Nielah-Keetra  \n",
       "0                          0.0  \n",
       "1                          1.0  \n",
       "2                          0.0  \n",
       "3                          0.0  \n",
       "4                          0.0  \n",
       "...                        ...  \n",
       "1495                       0.0  \n",
       "1496                       0.0  \n",
       "1497                       0.0  \n",
       "1498                       0.0  \n",
       "1499                       0.0  \n",
       "\n",
       "[1500 rows x 13 columns]"
      ]
     },
     "execution_count": 97,
     "metadata": {},
     "output_type": "execute_result"
    }
   ],
   "source": [
    "from sklearn.preprocessing import OneHotEncoder\n",
    "encoder = OneHotEncoder()\n",
    "one_hot = encoder.fit_transform(df[['make_model']])\n",
    "one_hot_df = pd.DataFrame(one_hot.toarray(), columns=encoder.get_feature_names(['make_model']))\n",
    "final_df = df.join(one_hot_df)\n",
    "final_df.drop('make_model', axis=1, inplace=True)\n",
    "final_df"
   ]
  },
  {
   "cell_type": "code",
   "execution_count": null,
   "id": "accc7b64",
   "metadata": {},
   "outputs": [],
   "source": [
    "one_hot = encoder.fit_transform(df[['make_model']])\n",
    "one_hot_df = pd.DataFrame(one_hot.toarray(), columns=encoder.get_feature_names(['make_model']))\n",
    "final_df = df.join(one_hot_df)\n",
    "final_df.drop('make_model', axis=1, inplace=True)\n",
    "final_df"
   ]
  },
  {
   "cell_type": "code",
   "execution_count": 55,
   "id": "00c090ef",
   "metadata": {},
   "outputs": [],
   "source": [
    "y= df['owned']\n",
    "X= df.drop(columns=['owned','make_model','review_month','web_browser','primary_use'])\n",
    "X_train, X_test, y_train, y_test = train_test_split(X, y, test_size=0.2, stratify= y)"
   ]
  },
  {
   "cell_type": "code",
   "execution_count": 56,
   "id": "d91590e0",
   "metadata": {},
   "outputs": [
    {
     "name": "stdout",
     "output_type": "stream",
     "text": [
      "0.7266666666666667\n",
      "\n",
      " confusion matrix : [[ 74  48]\n",
      " [ 34 144]]\n",
      "              precision    recall  f1-score   support\n",
      "\n",
      "      Owners       0.69      0.61      0.64       122\n",
      "  Non-Owners       0.75      0.81      0.78       178\n",
      "\n",
      "    accuracy                           0.73       300\n",
      "   macro avg       0.72      0.71      0.71       300\n",
      "weighted avg       0.72      0.73      0.72       300\n",
      "\n"
     ]
    },
    {
     "data": {
      "text/plain": [
       "Text(0.5, 15.0, 'Predicted label')"
      ]
     },
     "execution_count": 56,
     "metadata": {},
     "output_type": "execute_result"
    },
    {
     "data": {
      "image/png": "[encoded data removed]",
      "text/plain": [
       "<Figure size 432x288 with 2 Axes>"
      ]
     },
     "metadata": {
      "needs_background": "light"
     },
     "output_type": "display_data"
    }
   ],
   "source": [
    "model= LogisticRegression()\n",
    "model.fit(X_train, y_train)\n",
    "y_pred= model.predict(X_test)\n",
    "print(model.score(X_test, y_test))\n",
    "confusion_matrix_of_model= confusion_matrix(y_test, y_pred)\n",
    "print('\\n confusion matrix : {}'.format(confusion_matrix_of_model))\n",
    "target_names = ['Owners', 'Non-Owners']\n",
    "print(classification_report(y_test, y_pred, target_names=target_names))\n",
    "sns.heatmap(pd.DataFrame(confusion_matrix_of_model), annot=True, cmap=\"YlGnBu\" ,fmt='g')\n",
    "plt.title('Confusion matrix', y=1.1)\n",
    "plt.ylabel('Actual label')\n",
    "plt.xlabel('Predicted label')"
   ]
  },
  {
   "cell_type": "code",
   "execution_count": 57,
   "id": "86062b42",
   "metadata": {},
   "outputs": [
    {
     "name": "stdout",
     "output_type": "stream",
     "text": [
      "0.7366666666666667\n",
      "\n",
      " confusion matrix : [[ 72  50]\n",
      " [ 29 149]]\n",
      "              precision    recall  f1-score   support\n",
      "\n",
      "      Owners       0.71      0.59      0.65       122\n",
      "  Non-Owners       0.75      0.84      0.79       178\n",
      "\n",
      "    accuracy                           0.74       300\n",
      "   macro avg       0.73      0.71      0.72       300\n",
      "weighted avg       0.73      0.74      0.73       300\n",
      "\n"
     ]
    },
    {
     "data": {
      "text/plain": [
       "Text(0.5, 15.0, 'Predicted label')"
      ]
     },
     "execution_count": 57,
     "metadata": {},
     "output_type": "execute_result"
    },
    {
     "data": {
      "image/png": "[encoded data removed]",
      "text/plain": [
       "<Figure size 432x288 with 2 Axes>"
      ]
     },
     "metadata": {
      "needs_background": "light"
     },
     "output_type": "display_data"
    }
   ],
   "source": [
    "model= SVC()\n",
    "model.fit(X_train, y_train)\n",
    "y_pred= model.predict(X_test)\n",
    "print(model.score(X_test, y_test))\n",
    "confusion_matrix_of_model= confusion_matrix(y_test, y_pred)\n",
    "print('\\n confusion matrix : {}'.format(confusion_matrix_of_model))\n",
    "target_names = ['Owners', 'Non-Owners']\n",
    "print(classification_report(y_test, y_pred, target_names=target_names))\n",
    "sns.heatmap(pd.DataFrame(confusion_matrix_of_model), annot=True, cmap=\"YlGnBu\" ,fmt='g')\n",
    "plt.title('Confusion matrix', y=1.1)\n",
    "plt.ylabel('Actual label')\n",
    "plt.xlabel('Predicted label')"
   ]
  },
  {
   "cell_type": "code",
   "execution_count": null,
   "id": "8c1b4063",
   "metadata": {},
   "outputs": [],
   "source": []
  }
 ],
 "metadata": {
  "kernelspec": {
   "display_name": "Python 3 (ipykernel)",
   "language": "python",
   "name": "python3"
  },
  "language_info": {
   "codemirror_mode": {
    "name": "ipython",
    "version": 3
   },
   "file_extension": ".py",
   "mimetype": "text/x-python",
   "name": "python",
   "nbconvert_exporter": "python",
   "pygments_lexer": "ipython3",
   "version": "3.9.12"
  }
 },
 "nbformat": 4,
 "nbformat_minor": 5
}
